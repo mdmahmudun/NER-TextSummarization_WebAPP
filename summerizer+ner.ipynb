{
 "cells": [
  {
   "cell_type": "code",
   "execution_count": 1,
   "id": "77be3b7a-08a6-4802-9ada-68059f044975",
   "metadata": {},
   "outputs": [],
   "source": [
    "import warnings\n",
    "warnings.filterwarnings('ignore')\n",
    "from transformers import pipeline\n",
    "import gradio as gr"
   ]
  },
  {
   "cell_type": "code",
   "execution_count": 2,
   "id": "a87c2035-968d-47e5-956d-302c7c733097",
   "metadata": {},
   "outputs": [
    {
     "name": "stderr",
     "output_type": "stream",
     "text": [
      "Some weights of the model checkpoint at dslim/bert-base-NER were not used when initializing BertForTokenClassification: ['bert.pooler.dense.bias', 'bert.pooler.dense.weight']\n",
      "- This IS expected if you are initializing BertForTokenClassification from the checkpoint of a model trained on another task or with another architecture (e.g. initializing a BertForSequenceClassification model from a BertForPreTraining model).\n",
      "- This IS NOT expected if you are initializing BertForTokenClassification from the checkpoint of a model that you expect to be exactly identical (initializing a BertForSequenceClassification model from a BertForSequenceClassification model).\n"
     ]
    }
   ],
   "source": [
    "# Load the summarization model\n",
    "summarizer = pipeline(task='summarization', model='sshleifer/distilbart-cnn-12-6')\n",
    "#Load the NER model\n",
    "named_entity_recognizer= pipeline(task = 'ner', model = 'dslim/bert-base-NER')"
   ]
  },
  {
   "cell_type": "code",
   "execution_count": 3,
   "id": "9581faa4-2022-47d0-bb3d-dbc97b280209",
   "metadata": {},
   "outputs": [],
   "source": [
    "# NER helper functions\n",
    "def merge_tokens(tokens):\n",
    "    merged_tokens = []\n",
    "    for token in tokens:\n",
    "        if merged_tokens and token['entity'].startswith('I-') and merged_tokens[-1]['entity'].endswith(token['entity'][2:]):\n",
    "            # If current token continues the entity of the last one, merge them\n",
    "            last_token = merged_tokens[-1]\n",
    "            last_token['word'] += token['word'].replace('##', '')\n",
    "            last_token['end'] = token['end']\n",
    "            last_token['score'] = (last_token['score'] + token['score']) / 2\n",
    "        else:\n",
    "            # Otherwise, add the token to the list\n",
    "            merged_tokens.append(token)\n",
    "\n",
    "    return merged_tokens\n",
    "def ner(input):\n",
    "    output = named_entity_recognizer(input)\n",
    "    merged_tokens = merge_tokens(output)\n",
    "    return {'text': input, 'entities': merged_tokens}\n",
    "\n",
    "NER = gr.Interface(\n",
    "    fn = ner,\n",
    "    inputs = [gr.Textbox(label = \"Text to find entities\", lines = 3)],\n",
    "    outputs = [gr.HighlightedText(label = 'Text with entities')],\n",
    "    allow_flagging = 'never',\n",
    "    examples=[\n",
    "        \"My name is Nabi, I'm building NER Application\",\n",
    "    \"My name is Emon, I live in Rajshahi and study at RUET\"\n",
    "    ]\n",
    ")\n",
    "\n",
    "# Add Markdown content\n",
    "markdown_content_ner = gr.Markdown(\n",
    "    \"\"\"\n",
    "    <div style='text-align: center; font-family: \"Times New Roman\";'>\n",
    "        <h1 style='color: #FF6347;'>Named Entity Recognition APP</h1>\n",
    "        <h3 style='color: #4682B4;'>Model: dslim/bert-base-NER</h3>\n",
    "        <h3 style='color: #32CD32;'>Made By: Md. Mahmudun Nabi</h3>\n",
    "    </div>\n",
    "    \"\"\"\n",
    ")\n",
    "\n",
    "# Combine the Markdown content and the demo interface\n",
    "ner_with_markdown = gr.Blocks()\n",
    "with ner_with_markdown:\n",
    "    markdown_content_ner.render()\n",
    "    NER.render()"
   ]
  },
  {
   "cell_type": "code",
   "execution_count": 4,
   "id": "06ba6b55-c856-462a-9040-f400493a4275",
   "metadata": {},
   "outputs": [],
   "source": [
    "# Function to summarize input text\n",
    "def summarize(input):\n",
    "    output = summarizer(input)\n",
    "    return output[0]['summary_text']\n",
    "\n",
    "# Create the Gradio interface\n",
    "SUMMARIZER = gr.Interface(\n",
    "    fn=summarize,\n",
    "    inputs=[gr.Textbox(label='Text to summarize', lines=6)],\n",
    "    outputs=[gr.Textbox(label='Result', lines=3)],\n",
    ")\n",
    "\n",
    "# Add Markdown content\n",
    "markdown_content_summarizer = gr.Markdown(\n",
    "    \"\"\"\n",
    "    <div style='text-align: center; font-family: \"Times New Roman\";'>\n",
    "        <h1 style='color: #FF6347;'>Text Summarization with DistilBART-CNN</h1>\n",
    "        <h3 style='color: #4682B4;'>Model: sshleifer/distilbart-cnn-12-6</h3>\n",
    "        <h3 style='color: #32CD32;'>Made By: Md. Mahmudun Nabi</h3>\n",
    "    </div>\n",
    "    \"\"\"\n",
    ")\n",
    "\n",
    "# Combine the Markdown content and the demo interface\n",
    "summarizer_with_markdown = gr.Blocks()\n",
    "with summarizer_with_markdown:\n",
    "    markdown_content_summarizer.render()\n",
    "    SUMMARIZER.render()"
   ]
  },
  {
   "cell_type": "code",
   "execution_count": 5,
   "id": "781e0318-b5fe-4cc6-85ff-1a7bdc4f4689",
   "metadata": {},
   "outputs": [],
   "source": [
    "# Combine both the app\n",
    "demo = gr.Blocks()\n",
    "with demo:\n",
    "    gr.TabbedInterface(\n",
    "        [ner_with_markdown, summarizer_with_markdown],\n",
    "        ['Named Entity Recognition', 'Text Summarization']\n",
    "    )"
   ]
  },
  {
   "cell_type": "code",
   "execution_count": 6,
   "id": "8009cfa5-b8bb-413c-9a8d-20082d590f78",
   "metadata": {},
   "outputs": [
    {
     "name": "stdout",
     "output_type": "stream",
     "text": [
      "Running on local URL:  http://127.0.0.1:7860\n",
      "\n",
      "To create a public link, set `share=True` in `launch()`.\n"
     ]
    },
    {
     "data": {
      "text/html": [
       "<div><iframe src=\"http://127.0.0.1:7860/\" width=\"100%\" height=\"500\" allow=\"autoplay; camera; microphone; clipboard-read; clipboard-write;\" frameborder=\"0\" allowfullscreen></iframe></div>"
      ],
      "text/plain": [
       "<IPython.core.display.HTML object>"
      ]
     },
     "metadata": {},
     "output_type": "display_data"
    },
    {
     "data": {
      "text/plain": []
     },
     "execution_count": 6,
     "metadata": {},
     "output_type": "execute_result"
    }
   ],
   "source": [
    "demo.launch()"
   ]
  },
  {
   "cell_type": "code",
   "execution_count": null,
   "id": "ad00ae0e-fbad-4809-b6ca-c536bbbe50c2",
   "metadata": {},
   "outputs": [],
   "source": []
  }
 ],
 "metadata": {
  "kernelspec": {
   "display_name": "NLP",
   "language": "python",
   "name": "nlp"
  },
  "language_info": {
   "codemirror_mode": {
    "name": "ipython",
    "version": 3
   },
   "file_extension": ".py",
   "mimetype": "text/x-python",
   "name": "python",
   "nbconvert_exporter": "python",
   "pygments_lexer": "ipython3",
   "version": "3.10.14"
  }
 },
 "nbformat": 4,
 "nbformat_minor": 5
}
